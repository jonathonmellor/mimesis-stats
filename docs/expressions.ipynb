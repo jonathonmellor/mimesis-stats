{
 "cells": [
  {
   "cell_type": "markdown",
   "metadata": {},
   "source": [
    "# Example of univariate sympy expression"
   ]
  },
  {
   "cell_type": "code",
   "execution_count": 1,
   "metadata": {},
   "outputs": [
    {
     "name": "stdout",
     "output_type": "stream",
     "text": [
      "Obtaining file:///Users/jonathonmellor/projects2/mimesis-statistics\n",
      "  Installing build dependencies ... \u001b[?25ldone\n",
      "\u001b[?25h  Getting requirements to build wheel ... \u001b[?25ldone\n",
      "\u001b[?25h    Preparing wheel metadata ... \u001b[?25ldone\n",
      "\u001b[?25hRequirement already satisfied: mimesis>=4.1.3 in /Users/jonathonmellor/opt/anaconda3/envs/mimesis-stats/lib/python3.6/site-packages (from mimesis-stats==0.1.1) (4.1.3)\n",
      "Requirement already satisfied: numpy>=1.19.5 in /Users/jonathonmellor/opt/anaconda3/envs/mimesis-stats/lib/python3.6/site-packages (from mimesis-stats==0.1.1) (1.19.5)\n",
      "Installing collected packages: mimesis-stats\n",
      "  Attempting uninstall: mimesis-stats\n",
      "    Found existing installation: mimesis-stats 0.1.1\n",
      "    Uninstalling mimesis-stats-0.1.1:\n",
      "      Successfully uninstalled mimesis-stats-0.1.1\n",
      "  Running setup.py develop for mimesis-stats\n",
      "Successfully installed mimesis-stats-0.1.1\n"
     ]
    }
   ],
   "source": [
    "!pip install -e ../."
   ]
  },
  {
   "cell_type": "code",
   "execution_count": 7,
   "metadata": {},
   "outputs": [],
   "source": [
    "from mimesis_stats.providers import distribution\n",
    "\n",
    "from sympy.stats import Normal, Die\n",
    "import sympy.stats as symstats"
   ]
  },
  {
   "cell_type": "code",
   "execution_count": 8,
   "metadata": {},
   "outputs": [
    {
     "name": "stdout",
     "output_type": "stream",
     "text": [
      "0.7795005494633079\n",
      "-1.0486522734621222\n",
      "1.724598906782537\n",
      "1.3883241622927165\n",
      "0.5871404068847556\n",
      "-0.9460958111734135\n",
      "-0.19518772057745107\n",
      "0.09954405234867594\n",
      "-1.7659169239515604\n",
      "0.7154854673603747\n"
     ]
    }
   ],
   "source": [
    "d = distribution.Distribution()\n",
    "\n",
    "exp = Normal(\"Y\", 0, 1)\n",
    "\n",
    "for i in range(0, 10):\n",
    "    print(d.generic_expression(exp))"
   ]
  },
  {
   "cell_type": "code",
   "execution_count": 10,
   "metadata": {},
   "outputs": [],
   "source": [
    "expr = symstats.Die(\"X\", 1)"
   ]
  },
  {
   "cell_type": "code",
   "execution_count": 11,
   "metadata": {},
   "outputs": [
    {
     "data": {
      "text/plain": [
       "1"
      ]
     },
     "execution_count": 11,
     "metadata": {},
     "output_type": "execute_result"
    }
   ],
   "source": [
    "symstats.sample(expr)"
   ]
  },
  {
   "cell_type": "code",
   "execution_count": null,
   "metadata": {},
   "outputs": [],
   "source": []
  }
 ],
 "metadata": {
  "interpreter": {
   "hash": "0a94a99feb75e8b7f99cf0ba78b9fe4c3d37fa17176263c0c25d2141aae9a559"
  },
  "kernelspec": {
   "display_name": "Python 3.6.8 64-bit ('mimesis-stats': conda)",
   "language": "python",
   "name": "python3"
  },
  "language_info": {
   "codemirror_mode": {
    "name": "ipython",
    "version": 3
   },
   "file_extension": ".py",
   "mimetype": "text/x-python",
   "name": "python",
   "nbconvert_exporter": "python",
   "pygments_lexer": "ipython3",
   "version": "3.6.8"
  },
  "orig_nbformat": 4
 },
 "nbformat": 4,
 "nbformat_minor": 2
}
